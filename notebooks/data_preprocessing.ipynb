{
  "nbformat": 4,
  "nbformat_minor": 0,
  "metadata": {
    "colab": {
      "provenance": []
    },
    "kernelspec": {
      "name": "python3",
      "display_name": "Python 3"
    },
    "language_info": {
      "name": "python"
    }
  },
  "cells": [
    {
      "cell_type": "code",
      "source": [
        "import pandas as pd\n",
        "import numpy as np"
      ],
      "metadata": {
        "id": "lyKft1RlUXb2"
      },
      "execution_count": null,
      "outputs": []
    },
    {
      "cell_type": "markdown",
      "source": [
        "**Importing the data**"
      ],
      "metadata": {
        "id": "6Kx4zRIeUQqe"
      }
    },
    {
      "cell_type": "code",
      "execution_count": null,
      "metadata": {
        "id": "erCMRcLrSBnu"
      },
      "outputs": [],
      "source": [
        "path = '/content/drive/MyDrive/ml-latest/ml-latest/'\n",
        "\n",
        "final_rating = pd.read_csv(path + \"ratings.csv\", usecols=[\"userId\",\"movieId\",\"rating\"])"
      ]
    },
    {
      "cell_type": "markdown",
      "source": [
        "**Telechargement des affiches**"
      ],
      "metadata": {
        "id": "CaGLJBE5gmAc"
      }
    },
    {
      "cell_type": "code",
      "source": [
        "API_KEY = \"b595d4232841f978440710175bf75ae6\"\n",
        "\n",
        "import requests\n",
        "\n",
        "def get_poster_url(tmdid):\n",
        "    url = f\"https://api.themoviedb.org/3/movie/{tmdid}?api_key={API_KEY}&language=en-US\"\n",
        "    response = requests.get(url)\n",
        "    if response.status_code == 200:\n",
        "        data = response.json()\n",
        "        poster_path = data.get(\"poster_path\")\n",
        "        if poster_path:\n",
        "            return f\"https://image.tmdb.org/t/p/original/{poster_path}\"\n",
        "    return None"
      ],
      "metadata": {
        "id": "tYNituywgomz"
      },
      "execution_count": null,
      "outputs": []
    },
    {
      "cell_type": "code",
      "source": [
        "final_rating[\"affiche\"] = final_rating[\"movieId\"].apply(get_poster_url)"
      ],
      "metadata": {
        "id": "eGnVDIUAh6eb"
      },
      "execution_count": null,
      "outputs": []
    },
    {
      "cell_type": "markdown",
      "source": [
        "# **La diminution de nombre d'observations de la data en posant des conditions sur les films et les utilsateurs**"
      ],
      "metadata": {
        "id": "PwQmi-hqg2R5"
      }
    },
    {
      "cell_type": "markdown",
      "source": [
        "**On va laisser les films avec plus de 1500 notations par les utilisateurs**"
      ],
      "metadata": {
        "id": "xkMAwG3ShXXh"
      }
    },
    {
      "cell_type": "code",
      "source": [
        "ratepermovie = final_rating[[\"movieId\"]].value_counts()\n",
        "\n",
        "INDEXM = ratepermovie[ratepermovie>1500].index\n",
        "\n",
        "INDEXM = ratepermovie[ratepermovie>1500].index\n",
        "\n",
        "final_rating = final_rating[final_rating[\"movieId\"].isin(INDEXM)]"
      ],
      "metadata": {
        "id": "NGu7XXSKhX9R"
      },
      "execution_count": null,
      "outputs": []
    },
    {
      "cell_type": "markdown",
      "source": [
        "**On va laisser les utilisateurs qui ont notés entre 25 et 35 films**"
      ],
      "metadata": {
        "id": "Sv-FlsEehhOQ"
      }
    },
    {
      "cell_type": "code",
      "source": [
        "rateperuser = final_rating[[\"userId\"]].value_counts()\n",
        "\n",
        "INDEXU = rateperuser[(rateperuser>25)&(rateperuser<35)].index\n",
        "\n",
        "INDEXU = [a[0] for a in INDEXU]\n",
        "\n",
        "final_rating = final_rating[final_rating[\"userId\"].isin(INDEXU)]"
      ],
      "metadata": {
        "id": "EA5y7GEghAA1"
      },
      "execution_count": null,
      "outputs": []
    },
    {
      "cell_type": "markdown",
      "source": [
        "**Exportation de data**\n"
      ],
      "metadata": {
        "id": "oNCsbKAehMLE"
      }
    },
    {
      "cell_type": "code",
      "source": [
        "final_rating.to_csv('normal data.csv')"
      ],
      "metadata": {
        "id": "E0k_07pchMWU"
      },
      "execution_count": null,
      "outputs": []
    }
  ]
}